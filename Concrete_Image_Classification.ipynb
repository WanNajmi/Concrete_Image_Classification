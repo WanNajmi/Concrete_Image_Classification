{
 "cells": [
  {
   "cell_type": "code",
   "execution_count": 1,
   "metadata": {},
   "outputs": [
    {
     "name": "stderr",
     "output_type": "stream",
     "text": [
      "C:\\Users\\User\\anaconda3\\lib\\site-packages\\numpy\\_distributor_init.py:30: UserWarning: loaded more than 1 DLL from .libs:\n",
      "C:\\Users\\User\\anaconda3\\lib\\site-packages\\numpy\\.libs\\libopenblas.EL2C6PLE4ZYW3ECEVIV3OXXGRN2NRFM2.gfortran-win_amd64.dll\n",
      "C:\\Users\\User\\anaconda3\\lib\\site-packages\\numpy\\.libs\\libopenblas.WCDJNK7YVMPZQ2ME2ZZHJJRJ3JIKNDB7.gfortran-win_amd64.dll\n",
      "  warnings.warn(\"loaded more than 1 DLL from .libs:\"\n"
     ]
    }
   ],
   "source": [
    "from tensorflow.keras.preprocessing.image import ImageDataGenerator\n",
    "from tensorflow.keras.preprocessing import image\n",
    "from tensorflow import keras\n",
    "from tensorflow.keras import models\n",
    "from tensorflow.keras import preprocessing\n",
    "from tensorflow.keras.preprocessing import image_dataset_from_directory\n",
    "\n",
    "from tensorflow.keras.optimizers import Adam\n",
    "from tensorflow.keras import layers\n",
    "from tensorflow.keras.layers import Dense, Flatten, Conv2D, MaxPool2D, Activation,BatchNormalization, Dropout\n",
    "from tensorflow.keras import Sequential\n",
    "from keras.optimizers import *\n",
    "\"\"\n",
    "\n",
    "import tensorflow as tf\n",
    "import numpy as np\n",
    "import pandas as pd\n",
    "import os\n",
    "import matplotlib.pyplot as plt\n",
    "\n",
    "import cv2"
   ]
  },
  {
   "cell_type": "code",
   "execution_count": 2,
   "metadata": {},
   "outputs": [
    {
     "name": "stdout",
     "output_type": "stream",
     "text": [
      "Found 40000 files belonging to 2 classes.\n",
      "Using 32000 files for training.\n"
     ]
    }
   ],
   "source": [
    "#load train images\n",
    "img_size=100\n",
    "train_dataset = tf.keras.utils.image_dataset_from_directory('C:/Users/User/Desktop/Training/GitHub_Project/Concrete_Classification/basedata',\n",
    "                                                            validation_split=0.2,\n",
    "                                                            batch_size = 32,\n",
    "                                                            label_mode = 'categorical',\n",
    "                                                            subset='training',\n",
    "                                                            seed=12345,\n",
    "                                                            image_size=(img_size,img_size),\n",
    "                                                            shuffle=True\n",
    "                                                           )"
   ]
  },
  {
   "cell_type": "code",
   "execution_count": 3,
   "metadata": {},
   "outputs": [
    {
     "name": "stdout",
     "output_type": "stream",
     "text": [
      "Found 40000 files belonging to 2 classes.\n",
      "Using 8000 files for validation.\n"
     ]
    }
   ],
   "source": [
    "#load test images\n",
    "img_size=100\n",
    "test_dataset = tf.keras.utils.image_dataset_from_directory('C:/Users/User/Desktop/Training/GitHub_Project/Concrete_Classification/basedata',\n",
    "                                                           validation_split=0.2,\n",
    "                                                           batch_size = 32,\n",
    "                                                           label_mode = 'categorical',\n",
    "                                                           subset='validation',\n",
    "                                                           seed=12345,\n",
    "                                                           image_size=(img_size,img_size),\n",
    "                                                           shuffle=True\n",
    "                                                          )"
   ]
  },
  {
   "cell_type": "code",
   "execution_count": 4,
   "metadata": {},
   "outputs": [],
   "source": [
    "normalization_layer = tf.keras.layers.Rescaling(1./255)"
   ]
  },
  {
   "cell_type": "code",
   "execution_count": 16,
   "metadata": {},
   "outputs": [
    {
     "name": "stdout",
     "output_type": "stream",
     "text": [
      "Model: \"sequential_4\"\n",
      "_________________________________________________________________\n",
      " Layer (type)                Output Shape              Param #   \n",
      "=================================================================\n",
      " conv2d_12 (Conv2D)          (None, 98, 98, 32)        896       \n",
      "                                                                 \n",
      " max_pooling2d_12 (MaxPoolin  (None, 49, 49, 32)       0         \n",
      " g2D)                                                            \n",
      "                                                                 \n",
      " dropout_12 (Dropout)        (None, 49, 49, 32)        0         \n",
      "                                                                 \n",
      " conv2d_13 (Conv2D)          (None, 47, 47, 64)        18496     \n",
      "                                                                 \n",
      " max_pooling2d_13 (MaxPoolin  (None, 23, 23, 64)       0         \n",
      " g2D)                                                            \n",
      "                                                                 \n",
      " dropout_13 (Dropout)        (None, 23, 23, 64)        0         \n",
      "                                                                 \n",
      " conv2d_14 (Conv2D)          (None, 21, 21, 128)       73856     \n",
      "                                                                 \n",
      " max_pooling2d_14 (MaxPoolin  (None, 10, 10, 128)      0         \n",
      " g2D)                                                            \n",
      "                                                                 \n",
      " dropout_14 (Dropout)        (None, 10, 10, 128)       0         \n",
      "                                                                 \n",
      " flatten_4 (Flatten)         (None, 12800)             0         \n",
      "                                                                 \n",
      " dense_8 (Dense)             (None, 128)               1638528   \n",
      "                                                                 \n",
      " dense_9 (Dense)             (None, 2)                 258       \n",
      "                                                                 \n",
      "=================================================================\n",
      "Total params: 1,732,034\n",
      "Trainable params: 1,732,034\n",
      "Non-trainable params: 0\n",
      "_________________________________________________________________\n"
     ]
    }
   ],
   "source": [
    "img_size = 100\n",
    "model = tf.keras.models.Sequential()\n",
    "\n",
    "# Input layer\n",
    "model.add(tf.keras.layers.InputLayer(input_shape=(img_size,img_size,3)))\n",
    "\n",
    "# 1st 2D Convolution layer\n",
    "model.add(tf.keras.layers.Conv2D(32, kernel_size=(3,3)))\n",
    "# Max Pool layer \n",
    "# It downsmaples the input representetion within the pool_size size\n",
    "model.add(tf.keras.layers.MaxPool2D())\n",
    "# Normalization layer\n",
    "# The layer normalizes its output using the mean and standard deviation of the current batch of inputs.\n",
    "model.add(tf.keras.layers.Dropout(0.1))\n",
    "\n",
    "\n",
    "# 2nd 2D Convolution layer\n",
    "model.add(tf.keras.layers.Conv2D(64, kernel_size=(3,3)))\n",
    "# Max Pool layer \n",
    "model.add(tf.keras.layers.MaxPool2D())\n",
    "# Normalization layer\n",
    "model.add(tf.keras.layers.Dropout(0.01))\n",
    "\n",
    "# 1st fully convolutional layer \n",
    "model.add(tf.keras.layers.Conv2D(128, kernel_size=(3,3)))\n",
    "# Max Pool layer \n",
    "model.add(tf.keras.layers.MaxPool2D())\n",
    "# Normalization layer\n",
    "model.add(tf.keras.layers.Dropout(0.001))\n",
    "\n",
    "\n",
    "# Dense Layers after flattening the data\n",
    "model.add(tf.keras.layers.Flatten())\n",
    "model.add(tf.keras.layers.Dense(128))\n",
    "\n",
    "\n",
    "\n",
    "#Add Output Layer\n",
    "model.add(tf.keras.layers.Dense(2, activation='softmax')) # = 6 predicted classes\n",
    "\n",
    "model.compile(optimizer='adam', loss='categorical_crossentropy', metrics=['accuracy'])\n",
    "\n",
    "model.summary()"
   ]
  },
  {
   "cell_type": "code",
   "execution_count": 17,
   "metadata": {},
   "outputs": [],
   "source": [
    "# Callbacks\n",
    "import datetime\n",
    "from tensorflow.keras.callbacks import TensorBoard\n",
    "base_log_path = r\"C:\\Users\\User\\Desktop\\Training\\Deep Learning\\tb_logs\"\n",
    "log_path = os.path.join(base_log_path, 'Concrete_Classification', datetime.datetime.now().strftime(\"%Y%m%d-%H%M%S\"))\n",
    "tb = TensorBoard(log_dir=log_path)"
   ]
  },
  {
   "cell_type": "code",
   "execution_count": 18,
   "metadata": {},
   "outputs": [
    {
     "name": "stdout",
     "output_type": "stream",
     "text": [
      "Epoch 1/20\n",
      "1000/1000 [==============================] - 26s 25ms/step - loss: 14.9511 - accuracy: 0.9189 - val_loss: 17.0678 - val_accuracy: 0.7474\n",
      "Epoch 2/20\n",
      "1000/1000 [==============================] - 25s 25ms/step - loss: 0.6961 - accuracy: 0.9625 - val_loss: 0.8923 - val_accuracy: 0.9604\n",
      "Epoch 3/20\n",
      "1000/1000 [==============================] - 25s 25ms/step - loss: 2.6726 - accuracy: 0.9559 - val_loss: 0.0716 - val_accuracy: 0.9790\n",
      "Epoch 4/20\n",
      "1000/1000 [==============================] - 25s 25ms/step - loss: 0.0527 - accuracy: 0.9839 - val_loss: 0.0509 - val_accuracy: 0.9850\n",
      "Epoch 5/20\n",
      "1000/1000 [==============================] - 25s 25ms/step - loss: 0.0401 - accuracy: 0.9871 - val_loss: 0.0653 - val_accuracy: 0.9805\n",
      "Epoch 6/20\n",
      "1000/1000 [==============================] - 25s 25ms/step - loss: 0.0395 - accuracy: 0.9871 - val_loss: 0.1038 - val_accuracy: 0.9735\n",
      "Epoch 7/20\n",
      "1000/1000 [==============================] - 25s 25ms/step - loss: 0.0469 - accuracy: 0.9853 - val_loss: 0.0868 - val_accuracy: 0.9739\n",
      "Epoch 8/20\n",
      "1000/1000 [==============================] - 25s 25ms/step - loss: 2.1763 - accuracy: 0.9537 - val_loss: 0.0562 - val_accuracy: 0.9816\n",
      "Epoch 9/20\n",
      "1000/1000 [==============================] - 25s 25ms/step - loss: 0.0438 - accuracy: 0.9849 - val_loss: 0.0507 - val_accuracy: 0.9833\n",
      "Epoch 10/20\n",
      "1000/1000 [==============================] - 25s 25ms/step - loss: 0.0350 - accuracy: 0.9877 - val_loss: 0.0460 - val_accuracy: 0.9859\n",
      "Epoch 11/20\n",
      "1000/1000 [==============================] - 25s 25ms/step - loss: 0.0376 - accuracy: 0.9880 - val_loss: 0.1058 - val_accuracy: 0.9749\n",
      "Epoch 12/20\n",
      "1000/1000 [==============================] - 25s 25ms/step - loss: 58.2296 - accuracy: 0.9495 - val_loss: 0.4552 - val_accuracy: 0.9809\n",
      "Epoch 13/20\n",
      "1000/1000 [==============================] - 25s 25ms/step - loss: 0.4087 - accuracy: 0.9804 - val_loss: 0.2111 - val_accuracy: 0.9845\n",
      "Epoch 14/20\n",
      "1000/1000 [==============================] - 25s 25ms/step - loss: 0.2018 - accuracy: 0.9840 - val_loss: 0.3106 - val_accuracy: 0.9775\n",
      "Epoch 15/20\n",
      "1000/1000 [==============================] - 25s 25ms/step - loss: 0.1443 - accuracy: 0.9854 - val_loss: 0.3341 - val_accuracy: 0.9766\n",
      "Epoch 16/20\n",
      "1000/1000 [==============================] - 25s 25ms/step - loss: 0.1370 - accuracy: 0.9854 - val_loss: 0.1457 - val_accuracy: 0.9871\n",
      "Epoch 17/20\n",
      "1000/1000 [==============================] - 25s 25ms/step - loss: 2.7270 - accuracy: 0.9685 - val_loss: 0.0510 - val_accuracy: 0.9868\n",
      "Epoch 18/20\n",
      "1000/1000 [==============================] - 25s 25ms/step - loss: 0.0520 - accuracy: 0.9865 - val_loss: 0.1325 - val_accuracy: 0.9780\n",
      "Epoch 19/20\n",
      "1000/1000 [==============================] - 25s 25ms/step - loss: 0.0622 - accuracy: 0.9887 - val_loss: 0.0468 - val_accuracy: 0.9881\n",
      "Epoch 20/20\n",
      "1000/1000 [==============================] - 25s 25ms/step - loss: 0.0283 - accuracy: 0.9919 - val_loss: 0.1127 - val_accuracy: 0.9783\n"
     ]
    }
   ],
   "source": [
    "epochs = 20\n",
    "batch_size = 32\n",
    "history = model.fit(\n",
    "    train_dataset, \n",
    "    epochs=epochs,\n",
    "    validation_data=test_dataset,\n",
    "    batch_size = batch_size,\n",
    "    shuffle = True,\n",
    "    callbacks=[tb]\n",
    ")"
   ]
  },
  {
   "cell_type": "code",
   "execution_count": 19,
   "metadata": {},
   "outputs": [
    {
     "data": {
      "text/plain": [
       "<Figure size 432x288 with 0 Axes>"
      ]
     },
     "execution_count": 19,
     "metadata": {},
     "output_type": "execute_result"
    },
    {
     "data": {
      "image/png": "[encoded data removed]",
      "text/plain": [
       "<Figure size 432x288 with 1 Axes>"
      ]
     },
     "metadata": {
      "needs_background": "light"
     },
     "output_type": "display_data"
    },
    {
     "data": {
      "image/png": "[encoded data removed]",
      "text/plain": [
       "<Figure size 432x288 with 1 Axes>"
      ]
     },
     "metadata": {
      "needs_background": "light"
     },
     "output_type": "display_data"
    },
    {
     "data": {
      "text/plain": [
       "<Figure size 432x288 with 0 Axes>"
      ]
     },
     "metadata": {},
     "output_type": "display_data"
    }
   ],
   "source": [
    "# Visualize the result of model training\n",
    "training_loss = history.history['loss']\n",
    "val_loss = history.history['val_loss']\n",
    "training_acc = history.history['accuracy']\n",
    "val_acc = history.history['val_accuracy']\n",
    "\n",
    "epochs_x_axis = history.epoch\n",
    "\n",
    "plt.plot(epochs_x_axis,training_loss,label='Training Loss')\n",
    "plt.plot(epochs_x_axis,val_loss,label='Validation Loss')\n",
    "plt.title(\"Training vs Validation Loss\")\n",
    "plt.legend()\n",
    "plt.figure()\n",
    "\n",
    "plt.plot(epochs_x_axis,training_acc,label='Training Accuracy')\n",
    "plt.plot(epochs_x_axis,val_acc,label='Validation Accuracy')\n",
    "plt.title(\"Training vs Validation Accuracy\")\n",
    "plt.legend()\n",
    "plt.figure()"
   ]
  },
  {
   "cell_type": "code",
   "execution_count": 20,
   "metadata": {},
   "outputs": [
    {
     "name": "stdout",
     "output_type": "stream",
     "text": [
      "['Negative', 'Positive']\n",
      "1/1 [==============================] - 0s 166ms/step\n",
      "This image most likely belongs to Positive \n"
     ]
    }
   ],
   "source": [
    "class_names = test_dataset.class_names\n",
    "print(class_names)\n",
    "\n",
    "concrete_file = \"C:/Users/User/Desktop/Training/GitHub_Project/Concrete_Classification/basedata/Positive/00001.jpg\"\n",
    "\n",
    "img = tf.keras.utils.load_img(\n",
    "    concrete_file, target_size=(100, 100)\n",
    ")\n",
    "\n",
    "img_array = tf.keras.utils.img_to_array(img)\n",
    "img_array = tf.expand_dims(img_array, axis=0) # Create a batch\n",
    "\n",
    "predictions = model.predict(img_array)\n",
    "score = tf.nn.softmax(predictions[0])\n",
    "\n",
    "print(\n",
    "    \"This image most likely belongs to {} \"\n",
    "    .format(class_names[np.argmax(score)])\n",
    ")"
   ]
  },
  {
   "cell_type": "code",
   "execution_count": 21,
   "metadata": {},
   "outputs": [
    {
     "name": "stdout",
     "output_type": "stream",
     "text": [
      "250/250 [==============================] - 3s 13ms/step - loss: 0.1127 - accuracy: 0.9783\n",
      "Test Accuracy: 97.83%\n"
     ]
    }
   ],
   "source": [
    "evaluation = model.evaluate(test_dataset)\n",
    "print(f\"Test Accuracy: {evaluation[1] * 100:.2f}%\")"
   ]
  },
  {
   "cell_type": "code",
   "execution_count": null,
   "metadata": {},
   "outputs": [],
   "source": []
  }
 ],
 "metadata": {
  "kernelspec": {
   "display_name": "Python 3",
   "language": "python",
   "name": "python3"
  },
  "language_info": {
   "codemirror_mode": {
    "name": "ipython",
    "version": 3
   },
   "file_extension": ".py",
   "mimetype": "text/x-python",
   "name": "python",
   "nbconvert_exporter": "python",
   "pygments_lexer": "ipython3",
   "version": "3.8.5"
  }
 },
 "nbformat": 4,
 "nbformat_minor": 4
}
